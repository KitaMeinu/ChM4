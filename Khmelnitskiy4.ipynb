{
 "cells": [
  {
   "cell_type": "code",
   "execution_count": 1,
   "metadata": {},
   "outputs": [],
   "source": [
    "import numpy as np\n",
    "import matplotlib.pyplot as plt\n",
    "\n",
    "n = 6\n",
    "k = 10\n",
    "\n",
    "def zeidel (B,c,n,k,x0):\n",
    "    result=np.zeros([k,n])\n",
    "    y=np.array(x0)\n",
    "    for m in range(k):\n",
    "        x=np.array(y)\n",
    "        for i in range(n):\n",
    "            u=0\n",
    "            j=0\n",
    "            while (j>=0) and (j<=i):\n",
    "                u+=B[i,j]*y[j]\n",
    "                j+=1\n",
    "            j=i+1\n",
    "            while (j>=i) and (j<n):\n",
    "                u+=B[i,j]*x[j]\n",
    "                j+=1\n",
    "            y[i]=u+c[i]\n",
    "        for i in range(n):\n",
    "                result[m,i]=y[i]\n",
    "    return result\n"
   ]
  },
  {
   "cell_type": "code",
   "execution_count": 2,
   "metadata": {},
   "outputs": [],
   "source": [
    "def B2(B):\n",
    "    res = np.zeros([B.shape[0], B.shape[1]])\n",
    "    for i in range (B.shape[0]):\n",
    "        for j in range(i+1, B.shape[0]):\n",
    "            res[i,j] = B[i,j]\n",
    "    return(res)"
   ]
  },
  {
   "cell_type": "code",
   "execution_count": 3,
   "metadata": {},
   "outputs": [],
   "source": [
    "def zeidel_modified(B, c, n, x0, eps):\n",
    "    y=np.array(x0)\n",
    "    x=np.zeros(n)\n",
    "    k=0\n",
    "    \n",
    "    new_eps=((1-np.linalg.norm(B, np.inf))*eps/np.linalg.norm(B2(B), np.inf))\n",
    "    while (max(abs(x-y)) > new_eps):\n",
    "        x=np.array(y)\n",
    "        k+=1\n",
    "        for i in range(n):\n",
    "            u=0\n",
    "            j=0\n",
    "            while (j>=0) and (j<=i):\n",
    "                u+=B[i,j]*y[j]\n",
    "                j+=1\n",
    "            j=i+1\n",
    "            while (j>=i) and (j<n):\n",
    "                u+=B[i,j]*x[j]\n",
    "                j+=1\n",
    "            y[i]=u+c[i]\n",
    "    return y, k"
   ]
  },
  {
   "cell_type": "code",
   "execution_count": 25,
   "metadata": {},
   "outputs": [],
   "source": [
    "A = np.array([[3.96,-1.5,0,-0.99,-1.4,0],\n",
    "              [3.96,18.3,1.6,6.93,4.3,1.5],\n",
    "              [0,4.6,-13,4.29,-1.4,2.3],\n",
    "              [3.96,0.4,0,5.94,1.5,0],\n",
    "              [5.94,3.1,3.4,0.99,14.4,0.9],\n",
    "              [-2.97,-1.2,0.8,4.95,-2.7,12.7]])\n",
    "b = np.array([11.95,-64.89,-38.57,-23.82,-84.83,30.35])"
   ]
  },
  {
   "cell_type": "code",
   "execution_count": 26,
   "metadata": {},
   "outputs": [
    {
     "data": {
      "text/plain": [
       "array([[-0.26262626],\n",
       "       [-1.6       ],\n",
       "       [ 2.6       ],\n",
       "       [-2.21212121],\n",
       "       [-6.        ],\n",
       "       [ 1.6       ]])"
      ]
     },
     "execution_count": 26,
     "metadata": {},
     "output_type": "execute_result"
    }
   ],
   "source": [
    "x = np.linalg.solve(A,b)\n",
    "x.reshape(n,1)"
   ]
  },
  {
   "cell_type": "code",
   "execution_count": 29,
   "metadata": {},
   "outputs": [
    {
     "data": {
      "text/plain": [
       "array([[ 0.        ,  0.37878788, -0.        ,  0.25      ,  0.35353535,\n",
       "        -0.        ],\n",
       "       [-0.21639344,  0.        , -0.08743169, -0.37868852, -0.23497268,\n",
       "        -0.08196721],\n",
       "       [ 0.        ,  0.35384615,  0.        ,  0.33      , -0.10769231,\n",
       "         0.17692308],\n",
       "       [-0.66666667, -0.06734007, -0.        ,  0.        , -0.25252525,\n",
       "        -0.        ],\n",
       "       [-0.4125    , -0.21527778, -0.23611111, -0.06875   ,  0.        ,\n",
       "        -0.0625    ],\n",
       "       [ 0.23385827,  0.09448819, -0.06299213, -0.38976378,  0.21259843,\n",
       "         0.        ]])"
      ]
     },
     "execution_count": 29,
     "metadata": {},
     "output_type": "execute_result"
    }
   ],
   "source": [
    "B = np.zeros([n,n])\n",
    "c = np.zeros(n)\n",
    "\n",
    "for i in range(A.shape[0]):\n",
    "    c[i]=b[i]/A[i,i]\n",
    "    for j in range(A.shape[1]):\n",
    "        if i!=j:\n",
    "            B[i,j]=-A[i,j]/A[i,i]\n",
    "B\n",
    "            "
   ]
  },
  {
   "cell_type": "code",
   "execution_count": 30,
   "metadata": {},
   "outputs": [
    {
     "data": {
      "text/plain": [
       "0.9994535519125683"
      ]
     },
     "execution_count": 30,
     "metadata": {},
     "output_type": "execute_result"
    }
   ],
   "source": [
    "np.linalg.norm(B, np.inf)"
   ]
  },
  {
   "cell_type": "code",
   "execution_count": 31,
   "metadata": {},
   "outputs": [
    {
     "data": {
      "text/plain": [
       "array([[ 3.01767677e+00, -4.19890710e+00,  1.48115595e+00,\n",
       "        -5.73913083e+00, -6.18698463e+00,  3.52698629e+00],\n",
       "       [-2.19491885e+00,  1.37582531e-01,  2.41198887e+00,\n",
       "        -9.93716734e-01, -5.73680265e+00,  9.05207058e-01],\n",
       "       [ 7.93199628e-01, -2.27832541e+00,  2.61078141e+00,\n",
       "        -2.93679064e+00, -6.19879982e+00,  2.02232610e+00],\n",
       "       [-7.71017827e-01, -1.20441041e+00,  2.59696539e+00,\n",
       "        -1.84963056e+00, -5.92605024e+00,  1.39311401e+00],\n",
       "       [ 3.98479960e-03, -1.79511692e+00,  2.60601382e+00,\n",
       "        -2.39539692e+00, -6.04386208e+00,  1.70564336e+00],\n",
       "       [-3.97859908e-01, -1.50021062e+00,  2.59824346e+00,\n",
       "        -2.11760899e+00, -5.97838424e+00,  1.54567209e+00],\n",
       "       [-1.93557266e-01, -1.65120920e+00,  2.60112914e+00,\n",
       "        -2.26017730e+00, -6.01103401e+00,  1.62762727e+00],\n",
       "       [-2.97938623e-01, -1.57393091e+00,  2.59944212e+00,\n",
       "        -2.18754877e+00, -5.99433009e+00,  1.58586824e+00],\n",
       "       [-2.44603980e-01, -1.61333036e+00,  2.60028117e+00,\n",
       "        -2.22467020e+00, -6.00288487e+00,  1.60721521e+00],\n",
       "       [-2.71832792e-01, -1.59319374e+00,  2.59985442e+00,\n",
       "        -2.20571336e+00, -5.99852466e+00,  1.59631536e+00]])"
      ]
     },
     "execution_count": 31,
     "metadata": {},
     "output_type": "execute_result"
    }
   ],
   "source": [
    "x1 = np.zeros(n)\n",
    "z1 = zeidel(B,c,n,k,x1)\n",
    "z1"
   ]
  },
  {
   "cell_type": "code",
   "execution_count": 32,
   "metadata": {},
   "outputs": [
    {
     "data": {
      "text/plain": [
       "0.00920652982907555"
      ]
     },
     "execution_count": 32,
     "metadata": {},
     "output_type": "execute_result"
    }
   ],
   "source": [
    "max(abs(z1[k-1]-x)) #погрешность"
   ]
  },
  {
   "cell_type": "code",
   "execution_count": null,
   "metadata": {},
   "outputs": [],
   "source": []
  },
  {
   "cell_type": "code",
   "execution_count": 41,
   "metadata": {},
   "outputs": [
    {
     "data": {
      "text/plain": [
       "array([[ 29.98914141, -25.36699454,  -5.5108596 , -32.64818219,\n",
       "         -9.32355513,  18.09613758],\n",
       "       [-18.04928519,  13.9126518 ,   1.32166079,   9.44030999,\n",
       "         -3.53281555,  -5.03044566],\n",
       "       [  9.39872293,  -8.02776901,   2.73208532,  -8.84320065,\n",
       "         -7.76244796,   5.45357872],\n",
       "       [ -4.97824478,   2.01825418,   2.5636382 ,   1.1330336 ,\n",
       "         -5.29597972,  -0.31276016],\n",
       "       [  2.19310932,  -3.40363955,   2.65146119,  -3.90560396,\n",
       "         -6.40088352,   2.57546082],\n",
       "       [ -1.51092025,  -0.67883335,   2.58285557,  -1.34072343,\n",
       "         -5.80021235,   1.09903071],\n",
       "       [  0.37478194,  -2.07230191,   2.61029043,  -2.6557066 ,\n",
       "         -6.10187739,   1.85502255],\n",
       "       [ -0.58844211,  -1.35937969,   2.59485018,  -1.98538742,\n",
       "         -5.9477121 ,   1.46960915],\n",
       "       [ -0.09631314,  -1.72299875,   2.60259936,  -2.3279179 ,\n",
       "         -6.02662855,   1.6665802 ],\n",
       "       [ -0.34758001,  -1.53719337,   2.59865824,  -2.1529904 ,\n",
       "         -5.98638715,   1.56599889]])"
      ]
     },
     "execution_count": 41,
     "metadata": {},
     "output_type": "execute_result"
    }
   ],
   "source": [
    "x2 = np.array([15.1,23.5,2.2,14.3,41,1.1])\n",
    "z2 = zeidel(B,c,n,k,x2)\n",
    "z2"
   ]
  },
  {
   "cell_type": "code",
   "execution_count": 43,
   "metadata": {},
   "outputs": [
    {
     "data": {
      "text/plain": [
       "0.08495374343728379"
      ]
     },
     "execution_count": 43,
     "metadata": {},
     "output_type": "execute_result"
    }
   ],
   "source": [
    "max(abs(z2[k-1]-x))"
   ]
  },
  {
   "cell_type": "code",
   "execution_count": null,
   "metadata": {},
   "outputs": [],
   "source": []
  },
  {
   "cell_type": "code",
   "execution_count": 59,
   "metadata": {},
   "outputs": [
    {
     "name": "stdout",
     "output_type": "stream",
     "text": [
      "Корни системы для приближения [-0.26262626 -1.6         2.6        -2.21212121 -6.          1.6       ]\n",
      "Итераций всего: 46\n"
     ]
    }
   ],
   "source": [
    "x3 = np.array([50., 1234., -113., 5345., -8., 6.])\n",
    "z3 = zeidel_modified(B,c,n,x3,10**(-6))\n",
    "print (\"Корни системы для приближения\", z3[0])\n",
    "print (\"Итераций всего:\", z3[1])"
   ]
  },
  {
   "cell_type": "code",
   "execution_count": 60,
   "metadata": {},
   "outputs": [
    {
     "data": {
      "text/plain": [
       "1.748738931439675e-10"
      ]
     },
     "execution_count": 60,
     "metadata": {},
     "output_type": "execute_result"
    }
   ],
   "source": [
    "max(abs(z3[0]-x))"
   ]
  },
  {
   "cell_type": "code",
   "execution_count": null,
   "metadata": {},
   "outputs": [],
   "source": []
  }
 ],
 "metadata": {
  "kernelspec": {
   "display_name": "Python 3",
   "language": "python",
   "name": "python3"
  },
  "language_info": {
   "codemirror_mode": {
    "name": "ipython",
    "version": 3
   },
   "file_extension": ".py",
   "mimetype": "text/x-python",
   "name": "python",
   "nbconvert_exporter": "python",
   "pygments_lexer": "ipython3",
   "version": "3.6.5"
  }
 },
 "nbformat": 4,
 "nbformat_minor": 2
}
