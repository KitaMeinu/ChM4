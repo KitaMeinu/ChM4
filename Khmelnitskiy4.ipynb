{
 "cells": [
  {
   "cell_type": "code",
   "execution_count": 27,
   "metadata": {},
   "outputs": [],
   "source": [
    "import numpy as np\n",
    "import matplotlib.pyplot as plt\n",
    "import copy\n",
    "import scipy.optimize\n",
    "\n",
    "eps = 1e-6\n",
    "\n",
    "def f1(x1, x2):\n",
    "    return np.cos(x2 - 2) + x1\n",
    "\n",
    "def f2(x1, x2):\n",
    "    return np.sin(x1 + 0.5) - x2 + 2.9\n",
    "\n",
    "def f(x):\n",
    "    x1, x2 = x\n",
    "    return f1(x1, x2),f2(x1, x2)\n",
    "\n",
    "def df1_dx1(x1, x2):\n",
    "    return 1\n",
    "def df1_dx2(x1, x2):\n",
    "    return np.sin(x2-2)*-1\n",
    "def df2_dx1(x1, x2):\n",
    "    return np.cos(x1+0.5)\n",
    "def df2_dx2(x1, x2):\n",
    "    return -1\n",
    "\n",
    "def A(x1,x2):\n",
    "    return np.array([[df1_dx1(x1, x2),df1_dx2(x1, x2)], [df2_dx1(x1, x2), df2_dx2(x1, x2)]])"
   ]
  },
  {
   "cell_type": "code",
   "execution_count": 28,
   "metadata": {},
   "outputs": [],
   "source": [
    "def b (x1, x2):\n",
    "    return np.array ([-f1(x1, x2), -f2(x1, x2)])"
   ]
  },
  {
   "cell_type": "code",
   "execution_count": 29,
   "metadata": {},
   "outputs": [],
   "source": [
    "def Newton (x1,x2):\n",
    "    x1_old = x1\n",
    "    x2_old = x2\n",
    "    n = 1\n",
    "    root = np.linalg.solve(A(x1_old, x2_old), b(x1_old, x2_old))\n",
    "    x1_new = x1_old + root[0]\n",
    "    x2_new = x2_old + root[1]\n",
    "    while np.linalg.norm([x1_new-x1_old, x2_new-x2_old], np.inf) > eps:\n",
    "        x1_old = x1_new\n",
    "        x2_old = x2_new\n",
    "        root = np.linalg.solve(A(x1_old,x2_old),b(x1_old, x2_old))\n",
    "        x1_new = x1_old + root[0]\n",
    "        x2_new = x2_old + root[1]\n",
    "        n = n + 1\n",
    "    return [x1_new, x2_new], n"
   ]
  },
  {
   "cell_type": "code",
   "execution_count": 30,
   "metadata": {},
   "outputs": [
    {
     "name": "stdout",
     "output_type": "stream",
     "text": [
      "Решение системы НУ, найденное посредством метода Ньютона:  [-0.8475922803272561, 2.5593649304284036]\n",
      "Кол-во потребовавшихся итераций:  5\n"
     ]
    }
   ],
   "source": [
    "print (\"Решение системы НУ, найденное посредством метода Ньютона: \", Newton(-1, 2)[0])\n",
    "print (\"Кол-во потребовавшихся итераций: \", Newton(-1, 2)[1])"
   ]
  },
  {
   "cell_type": "code",
   "execution_count": 31,
   "metadata": {},
   "outputs": [
    {
     "name": "stdout",
     "output_type": "stream",
     "text": [
      "Решение найденное посредством встроенной функции:  [-0.84759228  2.55936493]\n"
     ]
    }
   ],
   "source": [
    "solve_function = scipy.optimize.fsolve(f, (-1,2), xtol=eps)\n",
    "print(\"Решение найденное посредством встроенной функции: \", solve_function)"
   ]
  },
  {
   "cell_type": "code",
   "execution_count": 63,
   "metadata": {},
   "outputs": [
    {
     "data": {
      "image/png": "[encoded data removed]",
      "text/plain": [
       "<Figure size 432x288 with 1 Axes>"
      ]
     },
     "metadata": {},
     "output_type": "display_data"
    }
   ],
   "source": [
    "a = Newton(-1, 2)[0]\n",
    "x = np.arange(1,6,0.1)\n",
    "y = -1*np.cos(x-2)\n",
    "plt.plot(x, y)\n",
    "\n",
    "y = np.arange(-2, 5, 0.1)\n",
    "x = 2.9 + np.sin(y+0.5)\n",
    "\n",
    "plt.plot(x, y)\n",
    "plt.plot(a[0], a[1], 'r')\n",
    "plt.xlabel('x')\n",
    "plt.ylabel('y')\n",
    "\n",
    "plt.show()"
   ]
  },
  {
   "cell_type": "code",
   "execution_count": null,
   "metadata": {},
   "outputs": [],
   "source": []
  }
 ],
 "metadata": {
  "kernelspec": {
   "display_name": "Python 3",
   "language": "python",
   "name": "python3"
  },
  "language_info": {
   "codemirror_mode": {
    "name": "ipython",
    "version": 3
   },
   "file_extension": ".py",
   "mimetype": "text/x-python",
   "name": "python",
   "nbconvert_exporter": "python",
   "pygments_lexer": "ipython3",
   "version": "3.6.5"
  }
 },
 "nbformat": 4,
 "nbformat_minor": 2
}
